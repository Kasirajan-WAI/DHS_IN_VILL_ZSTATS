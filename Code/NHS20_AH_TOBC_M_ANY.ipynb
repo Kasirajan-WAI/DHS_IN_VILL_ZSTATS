{
 "cells": [
  {
   "cell_type": "code",
   "execution_count": null,
   "metadata": {},
   "outputs": [],
   "source": [
    "import geopandas as gpd\n",
    "\n",
    "# Define the path to the shapefile\n",
    "shapefile_path = \"data/ESRI IN Village/India%3A_Village_Boundary_2021/India%3A_Village_Boundary_2021.shp\"\n",
    "\n",
    "# Read the shapefile using geopandas\n",
    "shapefile = gpd.read_file(shapefile_path)\n",
    "\n",
    "# Print the column names\n",
    "print(shapefile.columns)"
   ]
  },
  {
   "cell_type": "code",
   "execution_count": null,
   "metadata": {},
   "outputs": [],
   "source": [
    "import rasterio\n",
    "\n",
    "# Define the path to the raster file\n",
    "raster_file = \"data/IA2020DHS_AHTOBCMANY_MS_v01/IA2020DHS_AHTOBCMANY_MS_MEAN_v01.tif\"\n",
    "\n",
    "# Open the raster file\n",
    "with rasterio.open(raster_file) as src:\n",
    "    # Get the metadata of the raster\n",
    "    meta = src.meta\n",
    "\n",
    "# Print the metadata\n",
    "print(meta)"
   ]
  },
  {
   "cell_type": "code",
   "execution_count": null,
   "metadata": {},
   "outputs": [],
   "source": [
    "import rasterio\n",
    "import geopandas as gpd\n",
    "\n",
    "# Load the shapefile\n",
    "villages = gpd.read_file('data/ESRI IN Village/India%3A_Village_Boundary_2021/India%3A_Village_Boundary_2021.shp')\n",
    "\n",
    "# Load the raster file\n",
    "raster = rasterio.open('data/IA2020DHS_AHTOBCMANY_MS_v01/IA2020DHS_AHTOBCMANY_MS_CI_v01.tif')\n"
   ]
  },
  {
   "cell_type": "code",
   "execution_count": null,
   "metadata": {},
   "outputs": [],
   "source": [
    "print(villages.crs)\n",
    "print(raster.crs)\n",
    "from rasterstats import zonal_stats\n",
    "\n",
    "stats = zonal_stats(villages, 'data/IA2020DHS_AHTOBCMANY_MS_v01/IA2020DHS_AHTOBCMANY_MS_CI_v01.tif', stats=\"mean\", nodata=raster.nodata)\n"
   ]
  },
  {
   "cell_type": "code",
   "execution_count": null,
   "metadata": {},
   "outputs": [],
   "source": [
    "pip install rasterstats"
   ]
  },
  {
   "cell_type": "code",
   "execution_count": null,
   "metadata": {},
   "outputs": [],
   "source": [
    "import pandas as pd\n",
    "\n",
    "# Convert the list of dictionaries to a DataFrame\n",
    "stats_df = pd.DataFrame(stats)\n",
    "\n",
    "# Merge the statistics with the original shapefile\n",
    "villages_with_stats = pd.concat([villages, stats_df], axis=1)\n"
   ]
  },
  {
   "cell_type": "code",
   "execution_count": null,
   "metadata": {},
   "outputs": [],
   "source": [
    "villages_with_stats.to_file('data/ESRI IN Village/India%3A_Village_Boundary_2021/NHS20_AH_TOBC_Village_Boundary_2021.shp')\n"
   ]
  },
  {
   "cell_type": "code",
   "execution_count": null,
   "metadata": {},
   "outputs": [],
   "source": [
    "muzaffarnagar_data = villages_with_stats[\n",
    "    (villages_with_stats['district'] == 'Muzaffarnagar') & \n",
    "    (villages_with_stats['state'] == 'Uttar Pradesh')\n",
    "]\n"
   ]
  },
  {
   "cell_type": "code",
   "execution_count": null,
   "metadata": {},
   "outputs": [],
   "source": [
    "pip install folium\n",
    "import folium\n",
    "\n",
    "# Create a base map centered around Muzaffarnagar\n",
    "m = folium.Map(location=[29.4739, 77.7041], zoom_start=10)\n",
    "\n",
    "# Add the village data to the map\n",
    "folium.Choropleth(\n",
    "    geo_data=muzaffarnagar_data,\n",
    "    data=muzaffarnagar_data,\n",
    "    columns=['id', 'mean'],  # Assuming 'id' is a unique identifier for each village; replace if different\n",
    "    key_on='feature.properties.id',\n",
    "    fill_color='YlGn',\n",
    "    legend_name='Mean Raster Value'\n",
    ").add_to(m)\n",
    "\n",
    "# Display the map\n",
    "m\n"
   ]
  },
  {
   "cell_type": "code",
   "execution_count": null,
   "metadata": {},
   "outputs": [],
   "source": [
    "import matplotlib.pyplot as plt\n",
    "\n",
    "# Descriptive statistics\n",
    "print(muzaffarnagar_data['mean'].describe())\n",
    "\n",
    "# Histogram\n",
    "muzaffarnagar_data['mean'].hist(bins=30, edgecolor='black')\n",
    "plt.title('Distribution of Mean Raster Values')\n",
    "plt.xlabel('Mean Raster Value')\n",
    "plt.ylabel('Number of Villages')\n",
    "plt.show()\n"
   ]
  },
  {
   "cell_type": "code",
   "execution_count": null,
   "metadata": {},
   "outputs": [],
   "source": [
    "import folium\n",
    "\n",
    "# Create a base map centered around Muzaffarnagar\n",
    "m = folium.Map(location=[29.4739, 77.7041], zoom_start=10)\n",
    "\n",
    "# Define a function to assign colors based on the custom classes\n",
    "def custom_color(value):\n",
    "    if value < 0.084:\n",
    "        return '#2c7bb6'  # Color for Extremely Low (Blue)\n",
    "    elif value < 0.100:\n",
    "        return '#abd9e9'  # Color for Low (Light Blue)\n",
    "    elif value < 0.116:\n",
    "        return '#ffffbf'  # Color for Medium-Low (Yellow)\n",
    "    elif value < 0.136:\n",
    "        return '#fdae61'  # Color for Medium-High (Orange)\n",
    "    else:\n",
    "        return '#d7191c'  # Color for High (Red)\n",
    "\n",
    "# Add the village data to the map with custom colors\n",
    "for _, row in muzaffarnagar_data.iterrows():\n",
    "    folium.GeoJson(\n",
    "        row['geometry'],\n",
    "        style_function=lambda feature, row=row: {\n",
    "            'fillColor': custom_color(row['mean']),\n",
    "            'color': 'black',\n",
    "            'weight': 1,\n",
    "            'fillOpacity': 0.7\n",
    "        }\n",
    "    ).add_to(m)\n",
    "\n",
    "# Add a custom legend\n",
    "legend_html = \"\"\"\n",
    "<div style=\"position: fixed; bottom: 50px; left: 50px; width: 150px; height: 150px; background-color: white; border:2px solid grey; z-index:9999; font-size:14px;\">\n",
    "    &nbsp;<b>Legend</b><br>\n",
    "    &nbsp;<i class=\"fa fa-square fa-2x\" style=\"color:#2c7bb6\"></i>&nbsp;0.000 - 0.084<br>\n",
    "    &nbsp;<i class=\"fa fa-square fa-2x\" style=\"color:#abd9e9\"></i>&nbsp;0.084 - 0.100<br>\n",
    "    &nbsp;<i class=\"fa fa-square fa-2x\" style=\"color:#ffffbf\"></i>&nbsp;0.100 - 0.116<br>\n",
    "    &nbsp;<i class=\"fa fa-square fa-2x\" style=\"color:#fdae61\"></i>&nbsp;0.116 - 0.136<br>\n",
    "    &nbsp;<i class=\"fa fa-square fa-2x\" style=\"color:#d7191c\"></i>&nbsp;0.136 - 0.163<br>\n",
    "</div>\n",
    "\"\"\"\n",
    "m.get_root().html.add_child(folium.Element(legend_html))\n",
    "\n",
    "# Display the map\n",
    "m\n"
   ]
  }
 ],
 "metadata": {
  "kernelspec": {
   "display_name": "Python 3",
   "language": "python",
   "name": "python3"
  },
  "language_info": {
   "name": "python",
   "version": "3.11.4"
  },
  "orig_nbformat": 4
 },
 "nbformat": 4,
 "nbformat_minor": 2
}
